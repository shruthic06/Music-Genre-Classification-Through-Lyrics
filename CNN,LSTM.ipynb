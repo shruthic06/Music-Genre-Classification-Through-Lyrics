{
 "cells": [
  {
   "cell_type": "code",
   "execution_count": 8,
   "id": "bd4ef3cd-6086-4d45-ac8e-c9ef4689b517",
   "metadata": {
    "scrolled": true
   },
   "outputs": [
    {
     "name": "stderr",
     "output_type": "stream",
     "text": [
      "[nltk_data] Downloading package punkt to /Users/shruthi/nltk_data...\n",
      "[nltk_data]   Package punkt is already up-to-date!\n",
      "[nltk_data] Downloading package stopwords to\n",
      "[nltk_data]     /Users/shruthi/nltk_data...\n",
      "[nltk_data]   Package stopwords is already up-to-date!\n",
      "[nltk_data] Downloading package wordnet to /Users/shruthi/nltk_data...\n",
      "[nltk_data]   Package wordnet is already up-to-date!\n"
     ]
    },
    {
     "name": "stdout",
     "output_type": "stream",
     "text": [
      "Top 5 genres: ['Pop', 'Rock', 'Country', 'R&B', 'Folk']\n",
      "Encoded genres: ['Country' 'Folk' 'Pop' 'R&B' 'Rock']\n",
      "Preprocessing lyrics...\n"
     ]
    },
    {
     "name": "stderr",
     "output_type": "stream",
     "text": [
      "/Users/shruthi/Library/CloudStorage/OneDrive-ArizonaStateUniversity/Data Mining/Project/Code/venv/lib/python3.9/site-packages/sklearn/base.py:484: FutureWarning: `BaseEstimator._check_n_features` is deprecated in 1.6 and will be removed in 1.7. Use `sklearn.utils.validation._check_n_features` instead.\n",
      "  warnings.warn(\n",
      "/Users/shruthi/Library/CloudStorage/OneDrive-ArizonaStateUniversity/Data Mining/Project/Code/venv/lib/python3.9/site-packages/sklearn/base.py:493: FutureWarning: `BaseEstimator._check_feature_names` is deprecated in 1.6 and will be removed in 1.7. Use `sklearn.utils.validation._check_feature_names` instead.\n",
      "  warnings.warn(\n"
     ]
    },
    {
     "name": "stdout",
     "output_type": "stream",
     "text": [
      "Train size: 4000, Val size: 500, Test size: 500\n",
      "Encoding train set...\n"
     ]
    },
    {
     "name": "stderr",
     "output_type": "stream",
     "text": [
      "Embedding: 100%|████████████████████████████| 4000/4000 [14:30<00:00,  4.60it/s]\n"
     ]
    },
    {
     "name": "stdout",
     "output_type": "stream",
     "text": [
      "Encoding validation set...\n"
     ]
    },
    {
     "name": "stderr",
     "output_type": "stream",
     "text": [
      "Embedding: 100%|██████████████████████████████| 500/500 [01:51<00:00,  4.47it/s]\n"
     ]
    },
    {
     "name": "stdout",
     "output_type": "stream",
     "text": [
      "Encoding test set...\n"
     ]
    },
    {
     "name": "stderr",
     "output_type": "stream",
     "text": [
      "Embedding: 100%|██████████████████████████████| 500/500 [01:51<00:00,  4.48it/s]\n"
     ]
    },
    {
     "name": "stdout",
     "output_type": "stream",
     "text": [
      "\n",
      "Training CNN with BERT...\n"
     ]
    },
    {
     "name": "stderr",
     "output_type": "stream",
     "text": [
      "/var/folders/lz/xw7_nrfj2kl84y11yjj31d2m0000gn/T/ipykernel_75988/257044498.py:155: FutureWarning: `torch.cuda.amp.GradScaler(args...)` is deprecated. Please use `torch.amp.GradScaler('cuda', args...)` instead.\n",
      "  scaler = GradScaler()\n",
      "/Users/shruthi/Library/CloudStorage/OneDrive-ArizonaStateUniversity/Data Mining/Project/Code/venv/lib/python3.9/site-packages/torch/amp/grad_scaler.py:132: UserWarning: torch.cuda.amp.GradScaler is enabled, but CUDA is not available.  Disabling.\n",
      "  warnings.warn(\n",
      "/var/folders/lz/xw7_nrfj2kl84y11yjj31d2m0000gn/T/ipykernel_75988/257044498.py:162: FutureWarning: `torch.cuda.amp.autocast(args...)` is deprecated. Please use `torch.amp.autocast('cuda', args...)` instead.\n",
      "  with autocast():\n",
      "/Users/shruthi/Library/CloudStorage/OneDrive-ArizonaStateUniversity/Data Mining/Project/Code/venv/lib/python3.9/site-packages/torch/amp/autocast_mode.py:266: UserWarning: User provided device_type of 'cuda', but CUDA is not available. Disabling\n",
      "  warnings.warn(\n"
     ]
    },
    {
     "name": "stdout",
     "output_type": "stream",
     "text": [
      "Epoch 1: Train Loss = 1.4134, Val Loss = 1.1878, Val Acc = 0.5120\n"
     ]
    },
    {
     "name": "stderr",
     "output_type": "stream",
     "text": [
      "/var/folders/lz/xw7_nrfj2kl84y11yjj31d2m0000gn/T/ipykernel_75988/257044498.py:162: FutureWarning: `torch.cuda.amp.autocast(args...)` is deprecated. Please use `torch.amp.autocast('cuda', args...)` instead.\n",
      "  with autocast():\n",
      "/Users/shruthi/Library/CloudStorage/OneDrive-ArizonaStateUniversity/Data Mining/Project/Code/venv/lib/python3.9/site-packages/torch/amp/autocast_mode.py:266: UserWarning: User provided device_type of 'cuda', but CUDA is not available. Disabling\n",
      "  warnings.warn(\n"
     ]
    },
    {
     "name": "stdout",
     "output_type": "stream",
     "text": [
      "Epoch 2: Train Loss = 0.9992, Val Loss = 1.1100, Val Acc = 0.5500\n"
     ]
    },
    {
     "name": "stderr",
     "output_type": "stream",
     "text": [
      "/var/folders/lz/xw7_nrfj2kl84y11yjj31d2m0000gn/T/ipykernel_75988/257044498.py:162: FutureWarning: `torch.cuda.amp.autocast(args...)` is deprecated. Please use `torch.amp.autocast('cuda', args...)` instead.\n",
      "  with autocast():\n",
      "/Users/shruthi/Library/CloudStorage/OneDrive-ArizonaStateUniversity/Data Mining/Project/Code/venv/lib/python3.9/site-packages/torch/amp/autocast_mode.py:266: UserWarning: User provided device_type of 'cuda', but CUDA is not available. Disabling\n",
      "  warnings.warn(\n"
     ]
    },
    {
     "name": "stdout",
     "output_type": "stream",
     "text": [
      "Epoch 3: Train Loss = 0.6662, Val Loss = 1.1513, Val Acc = 0.5720\n"
     ]
    },
    {
     "name": "stderr",
     "output_type": "stream",
     "text": [
      "/var/folders/lz/xw7_nrfj2kl84y11yjj31d2m0000gn/T/ipykernel_75988/257044498.py:162: FutureWarning: `torch.cuda.amp.autocast(args...)` is deprecated. Please use `torch.amp.autocast('cuda', args...)` instead.\n",
      "  with autocast():\n",
      "/Users/shruthi/Library/CloudStorage/OneDrive-ArizonaStateUniversity/Data Mining/Project/Code/venv/lib/python3.9/site-packages/torch/amp/autocast_mode.py:266: UserWarning: User provided device_type of 'cuda', but CUDA is not available. Disabling\n",
      "  warnings.warn(\n"
     ]
    },
    {
     "name": "stdout",
     "output_type": "stream",
     "text": [
      "Epoch 4: Train Loss = 0.3787, Val Loss = 1.0629, Val Acc = 0.6240\n"
     ]
    },
    {
     "name": "stderr",
     "output_type": "stream",
     "text": [
      "/var/folders/lz/xw7_nrfj2kl84y11yjj31d2m0000gn/T/ipykernel_75988/257044498.py:162: FutureWarning: `torch.cuda.amp.autocast(args...)` is deprecated. Please use `torch.amp.autocast('cuda', args...)` instead.\n",
      "  with autocast():\n",
      "/Users/shruthi/Library/CloudStorage/OneDrive-ArizonaStateUniversity/Data Mining/Project/Code/venv/lib/python3.9/site-packages/torch/amp/autocast_mode.py:266: UserWarning: User provided device_type of 'cuda', but CUDA is not available. Disabling\n",
      "  warnings.warn(\n"
     ]
    },
    {
     "name": "stdout",
     "output_type": "stream",
     "text": [
      "Epoch 5: Train Loss = 0.2216, Val Loss = 1.0627, Val Acc = 0.6060\n"
     ]
    },
    {
     "name": "stderr",
     "output_type": "stream",
     "text": [
      "/var/folders/lz/xw7_nrfj2kl84y11yjj31d2m0000gn/T/ipykernel_75988/257044498.py:162: FutureWarning: `torch.cuda.amp.autocast(args...)` is deprecated. Please use `torch.amp.autocast('cuda', args...)` instead.\n",
      "  with autocast():\n",
      "/Users/shruthi/Library/CloudStorage/OneDrive-ArizonaStateUniversity/Data Mining/Project/Code/venv/lib/python3.9/site-packages/torch/amp/autocast_mode.py:266: UserWarning: User provided device_type of 'cuda', but CUDA is not available. Disabling\n",
      "  warnings.warn(\n"
     ]
    },
    {
     "name": "stdout",
     "output_type": "stream",
     "text": [
      "Epoch 6: Train Loss = 0.1089, Val Loss = 1.2167, Val Acc = 0.6080\n"
     ]
    },
    {
     "name": "stderr",
     "output_type": "stream",
     "text": [
      "/var/folders/lz/xw7_nrfj2kl84y11yjj31d2m0000gn/T/ipykernel_75988/257044498.py:162: FutureWarning: `torch.cuda.amp.autocast(args...)` is deprecated. Please use `torch.amp.autocast('cuda', args...)` instead.\n",
      "  with autocast():\n",
      "/Users/shruthi/Library/CloudStorage/OneDrive-ArizonaStateUniversity/Data Mining/Project/Code/venv/lib/python3.9/site-packages/torch/amp/autocast_mode.py:266: UserWarning: User provided device_type of 'cuda', but CUDA is not available. Disabling\n",
      "  warnings.warn(\n"
     ]
    },
    {
     "name": "stdout",
     "output_type": "stream",
     "text": [
      "Epoch 7: Train Loss = 0.0845, Val Loss = 1.1480, Val Acc = 0.6380\n"
     ]
    },
    {
     "name": "stderr",
     "output_type": "stream",
     "text": [
      "/var/folders/lz/xw7_nrfj2kl84y11yjj31d2m0000gn/T/ipykernel_75988/257044498.py:162: FutureWarning: `torch.cuda.amp.autocast(args...)` is deprecated. Please use `torch.amp.autocast('cuda', args...)` instead.\n",
      "  with autocast():\n",
      "/Users/shruthi/Library/CloudStorage/OneDrive-ArizonaStateUniversity/Data Mining/Project/Code/venv/lib/python3.9/site-packages/torch/amp/autocast_mode.py:266: UserWarning: User provided device_type of 'cuda', but CUDA is not available. Disabling\n",
      "  warnings.warn(\n"
     ]
    },
    {
     "name": "stdout",
     "output_type": "stream",
     "text": [
      "Epoch 8: Train Loss = 0.0550, Val Loss = 1.0920, Val Acc = 0.6340\n"
     ]
    },
    {
     "name": "stderr",
     "output_type": "stream",
     "text": [
      "/var/folders/lz/xw7_nrfj2kl84y11yjj31d2m0000gn/T/ipykernel_75988/257044498.py:162: FutureWarning: `torch.cuda.amp.autocast(args...)` is deprecated. Please use `torch.amp.autocast('cuda', args...)` instead.\n",
      "  with autocast():\n",
      "/Users/shruthi/Library/CloudStorage/OneDrive-ArizonaStateUniversity/Data Mining/Project/Code/venv/lib/python3.9/site-packages/torch/amp/autocast_mode.py:266: UserWarning: User provided device_type of 'cuda', but CUDA is not available. Disabling\n",
      "  warnings.warn(\n"
     ]
    },
    {
     "name": "stdout",
     "output_type": "stream",
     "text": [
      "Epoch 9: Train Loss = 0.0640, Val Loss = 1.1187, Val Acc = 0.6560\n"
     ]
    },
    {
     "name": "stderr",
     "output_type": "stream",
     "text": [
      "/var/folders/lz/xw7_nrfj2kl84y11yjj31d2m0000gn/T/ipykernel_75988/257044498.py:162: FutureWarning: `torch.cuda.amp.autocast(args...)` is deprecated. Please use `torch.amp.autocast('cuda', args...)` instead.\n",
      "  with autocast():\n",
      "/Users/shruthi/Library/CloudStorage/OneDrive-ArizonaStateUniversity/Data Mining/Project/Code/venv/lib/python3.9/site-packages/torch/amp/autocast_mode.py:266: UserWarning: User provided device_type of 'cuda', but CUDA is not available. Disabling\n",
      "  warnings.warn(\n"
     ]
    },
    {
     "name": "stdout",
     "output_type": "stream",
     "text": [
      "Epoch 10: Train Loss = 0.0374, Val Loss = 1.1893, Val Acc = 0.6320\n",
      "\n",
      "CNN Evaluation with BERT:\n",
      "Accuracy: 0.626\n",
      "Confusion Matrix:\n",
      " [[79  9  2  7  3]\n",
      " [17 64  4  2 13]\n",
      " [ 8 11 55 14 12]\n",
      " [ 7  3 24 57  9]\n",
      " [15  9 10  8 58]]\n",
      "              precision    recall  f1-score   support\n",
      "\n",
      "     Country       0.63      0.79      0.70       100\n",
      "        Folk       0.67      0.64      0.65       100\n",
      "         Pop       0.58      0.55      0.56       100\n",
      "         R&B       0.65      0.57      0.61       100\n",
      "        Rock       0.61      0.58      0.59       100\n",
      "\n",
      "    accuracy                           0.63       500\n",
      "   macro avg       0.63      0.63      0.62       500\n",
      "weighted avg       0.63      0.63      0.62       500\n",
      "\n",
      "\n",
      "Training LSTM with BERT...\n"
     ]
    },
    {
     "name": "stderr",
     "output_type": "stream",
     "text": [
      "/var/folders/lz/xw7_nrfj2kl84y11yjj31d2m0000gn/T/ipykernel_75988/257044498.py:155: FutureWarning: `torch.cuda.amp.GradScaler(args...)` is deprecated. Please use `torch.amp.GradScaler('cuda', args...)` instead.\n",
      "  scaler = GradScaler()\n",
      "/Users/shruthi/Library/CloudStorage/OneDrive-ArizonaStateUniversity/Data Mining/Project/Code/venv/lib/python3.9/site-packages/torch/amp/grad_scaler.py:132: UserWarning: torch.cuda.amp.GradScaler is enabled, but CUDA is not available.  Disabling.\n",
      "  warnings.warn(\n",
      "/var/folders/lz/xw7_nrfj2kl84y11yjj31d2m0000gn/T/ipykernel_75988/257044498.py:162: FutureWarning: `torch.cuda.amp.autocast(args...)` is deprecated. Please use `torch.amp.autocast('cuda', args...)` instead.\n",
      "  with autocast():\n",
      "/Users/shruthi/Library/CloudStorage/OneDrive-ArizonaStateUniversity/Data Mining/Project/Code/venv/lib/python3.9/site-packages/torch/amp/autocast_mode.py:266: UserWarning: User provided device_type of 'cuda', but CUDA is not available. Disabling\n",
      "  warnings.warn(\n"
     ]
    },
    {
     "name": "stdout",
     "output_type": "stream",
     "text": [
      "Epoch 1: Train Loss = 1.4300, Val Loss = 1.3418, Val Acc = 0.4120\n"
     ]
    },
    {
     "name": "stderr",
     "output_type": "stream",
     "text": [
      "/var/folders/lz/xw7_nrfj2kl84y11yjj31d2m0000gn/T/ipykernel_75988/257044498.py:162: FutureWarning: `torch.cuda.amp.autocast(args...)` is deprecated. Please use `torch.amp.autocast('cuda', args...)` instead.\n",
      "  with autocast():\n",
      "/Users/shruthi/Library/CloudStorage/OneDrive-ArizonaStateUniversity/Data Mining/Project/Code/venv/lib/python3.9/site-packages/torch/amp/autocast_mode.py:266: UserWarning: User provided device_type of 'cuda', but CUDA is not available. Disabling\n",
      "  warnings.warn(\n"
     ]
    },
    {
     "name": "stdout",
     "output_type": "stream",
     "text": [
      "Epoch 2: Train Loss = 1.2565, Val Loss = 1.3032, Val Acc = 0.4320\n"
     ]
    },
    {
     "name": "stderr",
     "output_type": "stream",
     "text": [
      "/var/folders/lz/xw7_nrfj2kl84y11yjj31d2m0000gn/T/ipykernel_75988/257044498.py:162: FutureWarning: `torch.cuda.amp.autocast(args...)` is deprecated. Please use `torch.amp.autocast('cuda', args...)` instead.\n",
      "  with autocast():\n",
      "/Users/shruthi/Library/CloudStorage/OneDrive-ArizonaStateUniversity/Data Mining/Project/Code/venv/lib/python3.9/site-packages/torch/amp/autocast_mode.py:266: UserWarning: User provided device_type of 'cuda', but CUDA is not available. Disabling\n",
      "  warnings.warn(\n"
     ]
    },
    {
     "name": "stdout",
     "output_type": "stream",
     "text": [
      "Epoch 3: Train Loss = 1.1653, Val Loss = 1.2357, Val Acc = 0.5020\n"
     ]
    },
    {
     "name": "stderr",
     "output_type": "stream",
     "text": [
      "/var/folders/lz/xw7_nrfj2kl84y11yjj31d2m0000gn/T/ipykernel_75988/257044498.py:162: FutureWarning: `torch.cuda.amp.autocast(args...)` is deprecated. Please use `torch.amp.autocast('cuda', args...)` instead.\n",
      "  with autocast():\n",
      "/Users/shruthi/Library/CloudStorage/OneDrive-ArizonaStateUniversity/Data Mining/Project/Code/venv/lib/python3.9/site-packages/torch/amp/autocast_mode.py:266: UserWarning: User provided device_type of 'cuda', but CUDA is not available. Disabling\n",
      "  warnings.warn(\n"
     ]
    },
    {
     "name": "stdout",
     "output_type": "stream",
     "text": [
      "Epoch 4: Train Loss = 1.0631, Val Loss = 1.2149, Val Acc = 0.5000\n"
     ]
    },
    {
     "name": "stderr",
     "output_type": "stream",
     "text": [
      "/var/folders/lz/xw7_nrfj2kl84y11yjj31d2m0000gn/T/ipykernel_75988/257044498.py:162: FutureWarning: `torch.cuda.amp.autocast(args...)` is deprecated. Please use `torch.amp.autocast('cuda', args...)` instead.\n",
      "  with autocast():\n",
      "/Users/shruthi/Library/CloudStorage/OneDrive-ArizonaStateUniversity/Data Mining/Project/Code/venv/lib/python3.9/site-packages/torch/amp/autocast_mode.py:266: UserWarning: User provided device_type of 'cuda', but CUDA is not available. Disabling\n",
      "  warnings.warn(\n"
     ]
    },
    {
     "name": "stdout",
     "output_type": "stream",
     "text": [
      "Epoch 5: Train Loss = 0.9518, Val Loss = 1.2559, Val Acc = 0.5300\n"
     ]
    },
    {
     "name": "stderr",
     "output_type": "stream",
     "text": [
      "/var/folders/lz/xw7_nrfj2kl84y11yjj31d2m0000gn/T/ipykernel_75988/257044498.py:162: FutureWarning: `torch.cuda.amp.autocast(args...)` is deprecated. Please use `torch.amp.autocast('cuda', args...)` instead.\n",
      "  with autocast():\n",
      "/Users/shruthi/Library/CloudStorage/OneDrive-ArizonaStateUniversity/Data Mining/Project/Code/venv/lib/python3.9/site-packages/torch/amp/autocast_mode.py:266: UserWarning: User provided device_type of 'cuda', but CUDA is not available. Disabling\n",
      "  warnings.warn(\n"
     ]
    },
    {
     "name": "stdout",
     "output_type": "stream",
     "text": [
      "Epoch 6: Train Loss = 0.8245, Val Loss = 1.3024, Val Acc = 0.5400\n"
     ]
    },
    {
     "name": "stderr",
     "output_type": "stream",
     "text": [
      "/var/folders/lz/xw7_nrfj2kl84y11yjj31d2m0000gn/T/ipykernel_75988/257044498.py:162: FutureWarning: `torch.cuda.amp.autocast(args...)` is deprecated. Please use `torch.amp.autocast('cuda', args...)` instead.\n",
      "  with autocast():\n",
      "/Users/shruthi/Library/CloudStorage/OneDrive-ArizonaStateUniversity/Data Mining/Project/Code/venv/lib/python3.9/site-packages/torch/amp/autocast_mode.py:266: UserWarning: User provided device_type of 'cuda', but CUDA is not available. Disabling\n",
      "  warnings.warn(\n"
     ]
    },
    {
     "name": "stdout",
     "output_type": "stream",
     "text": [
      "Epoch 7: Train Loss = 0.7158, Val Loss = 1.3446, Val Acc = 0.5240\n"
     ]
    },
    {
     "name": "stderr",
     "output_type": "stream",
     "text": [
      "/var/folders/lz/xw7_nrfj2kl84y11yjj31d2m0000gn/T/ipykernel_75988/257044498.py:162: FutureWarning: `torch.cuda.amp.autocast(args...)` is deprecated. Please use `torch.amp.autocast('cuda', args...)` instead.\n",
      "  with autocast():\n",
      "/Users/shruthi/Library/CloudStorage/OneDrive-ArizonaStateUniversity/Data Mining/Project/Code/venv/lib/python3.9/site-packages/torch/amp/autocast_mode.py:266: UserWarning: User provided device_type of 'cuda', but CUDA is not available. Disabling\n",
      "  warnings.warn(\n"
     ]
    },
    {
     "name": "stdout",
     "output_type": "stream",
     "text": [
      "Epoch 8: Train Loss = 0.5497, Val Loss = 1.3787, Val Acc = 0.5680\n"
     ]
    },
    {
     "name": "stderr",
     "output_type": "stream",
     "text": [
      "/var/folders/lz/xw7_nrfj2kl84y11yjj31d2m0000gn/T/ipykernel_75988/257044498.py:162: FutureWarning: `torch.cuda.amp.autocast(args...)` is deprecated. Please use `torch.amp.autocast('cuda', args...)` instead.\n",
      "  with autocast():\n",
      "/Users/shruthi/Library/CloudStorage/OneDrive-ArizonaStateUniversity/Data Mining/Project/Code/venv/lib/python3.9/site-packages/torch/amp/autocast_mode.py:266: UserWarning: User provided device_type of 'cuda', but CUDA is not available. Disabling\n",
      "  warnings.warn(\n"
     ]
    },
    {
     "name": "stdout",
     "output_type": "stream",
     "text": [
      "Epoch 9: Train Loss = 0.3169, Val Loss = 1.5383, Val Acc = 0.6080\n"
     ]
    },
    {
     "name": "stderr",
     "output_type": "stream",
     "text": [
      "/var/folders/lz/xw7_nrfj2kl84y11yjj31d2m0000gn/T/ipykernel_75988/257044498.py:162: FutureWarning: `torch.cuda.amp.autocast(args...)` is deprecated. Please use `torch.amp.autocast('cuda', args...)` instead.\n",
      "  with autocast():\n",
      "/Users/shruthi/Library/CloudStorage/OneDrive-ArizonaStateUniversity/Data Mining/Project/Code/venv/lib/python3.9/site-packages/torch/amp/autocast_mode.py:266: UserWarning: User provided device_type of 'cuda', but CUDA is not available. Disabling\n",
      "  warnings.warn(\n"
     ]
    },
    {
     "name": "stdout",
     "output_type": "stream",
     "text": [
      "Epoch 10: Train Loss = 0.1982, Val Loss = 1.7608, Val Acc = 0.6120\n",
      "\n",
      "LSTM Evaluation with BERT:\n",
      "Accuracy: 0.608\n",
      "Confusion Matrix:\n",
      " [[62 22  6  4  6]\n",
      " [ 8 77  4  2  9]\n",
      " [ 7 15 62 10  6]\n",
      " [ 7  7 22 57  7]\n",
      " [15 22 13  4 46]]\n",
      "              precision    recall  f1-score   support\n",
      "\n",
      "     Country       0.63      0.62      0.62       100\n",
      "        Folk       0.54      0.77      0.63       100\n",
      "         Pop       0.58      0.62      0.60       100\n",
      "         R&B       0.74      0.57      0.64       100\n",
      "        Rock       0.62      0.46      0.53       100\n",
      "\n",
      "    accuracy                           0.61       500\n",
      "   macro avg       0.62      0.61      0.61       500\n",
      "weighted avg       0.62      0.61      0.61       500\n",
      "\n"
     ]
    }
   ],
   "source": [
    "import pandas as pd\n",
    "import numpy as np\n",
    "import torch\n",
    "import torch.nn as nn\n",
    "import torch.optim as optim\n",
    "from torch.utils.data import DataLoader, TensorDataset\n",
    "from transformers import AutoTokenizer, AutoModel\n",
    "from sklearn.preprocessing import LabelEncoder\n",
    "from sklearn.model_selection import train_test_split\n",
    "from sklearn.metrics import classification_report, accuracy_score, confusion_matrix\n",
    "from imblearn.over_sampling import RandomOverSampler\n",
    "from tqdm import tqdm\n",
    "import nltk\n",
    "import re\n",
    "from nltk.corpus import stopwords\n",
    "from nltk.stem import WordNetLemmatizer\n",
    "from string import punctuation\n",
    "from nltk.tokenize import word_tokenize\n",
    "from torch.cuda.amp import autocast, GradScaler\n",
    "\n",
    "# Download NLTK data\n",
    "nltk.download('punkt')\n",
    "nltk.download('stopwords')\n",
    "nltk.download('wordnet')\n",
    "\n",
    "# Load dataset\n",
    "try:\n",
    "    df = pd.read_csv(\"kaggle_processed.csv\", on_bad_lines='skip', engine='python')\n",
    "except FileNotFoundError:\n",
    "    print(\"Error: 'kaggle_processed.csv' not found.\")\n",
    "    exit(1)\n",
    "\n",
    "# Clean column names and drop NA\n",
    "df.columns = df.columns.str.strip()\n",
    "df = df.dropna(subset=['Lyrics'])\n",
    "\n",
    "# Keep top 5 genres\n",
    "top_genres = df['Genre'].value_counts().nlargest(5).index\n",
    "df = df[df['Genre'].isin(top_genres)]\n",
    "print(f\"Top 5 genres: {top_genres.tolist()}\")\n",
    "\n",
    "# Handle class imbalance with oversampling\n",
    "X_temp = df[['Lyrics']]\n",
    "y_temp = df['Genre']\n",
    "ros = RandomOverSampler(random_state=42)\n",
    "X_temp, y_temp = ros.fit_resample(X_temp, y_temp)\n",
    "df = pd.concat([pd.DataFrame(X_temp), pd.Series(y_temp, name='Genre')], axis=1)\n",
    "\n",
    "# Encode labels\n",
    "le = LabelEncoder()\n",
    "df['Genre_encoded'] = le.fit_transform(df['Genre'])\n",
    "print(\"Encoded genres:\", le.classes_)\n",
    "\n",
    "# Preprocessing with lemmatization\n",
    "stop_words = set(stopwords.words('english'))\n",
    "lemmatizer = WordNetLemmatizer()\n",
    "remove_punct = str.maketrans('', '', punctuation + '’' + '‘' + '“' + '”' + '—' + '…')\n",
    "\n",
    "def clean_text(text):\n",
    "    text = str(text).lower()\n",
    "    text = text.translate(remove_punct)\n",
    "    tokens = word_tokenize(text)\n",
    "    tokens = [lemmatizer.lemmatize(w) for w in tokens if w not in stop_words and len(w) > 2]\n",
    "    return ' '.join(tokens)\n",
    "\n",
    "print(\"Preprocessing lyrics...\")\n",
    "df['Clean_Lyrics'] = df['Lyrics'].apply(clean_text)\n",
    "\n",
    "\n",
    "\n",
    "\n",
    "# Split into train, validation, and test (80-10-10)\n",
    "train_df, temp_df = train_test_split(df, test_size=0.2, stratify=df['Genre_encoded'], random_state=42)\n",
    "val_df, test_df = train_test_split(temp_df, test_size=0.5, stratify=temp_df['Genre_encoded'], random_state=42)\n",
    "print(f\"Train size: {len(train_df)}, Val size: {len(val_df)}, Test size: {len(test_df)}\")\n",
    "\n",
    "# BERT Embeddings\n",
    "model_name = \"bert-base-uncased\"\n",
    "tokenizer = AutoTokenizer.from_pretrained(model_name)\n",
    "bert_model = AutoModel.from_pretrained(model_name)\n",
    "bert_model.eval()\n",
    "device = torch.device(\"cuda\" if torch.cuda.is_available() else \"cpu\")\n",
    "bert_model = bert_model.to(device)\n",
    "\n",
    "max_len = 512\n",
    "\n",
    "def get_token_level_embeddings(texts):\n",
    "    embeddings = []\n",
    "    for text in tqdm(texts, desc=\"Embedding\"):\n",
    "        encoded = tokenizer(text, truncation=True, padding='max_length', max_length=max_len, return_tensors='pt')\n",
    "        encoded = {k: v.to(device) for k, v in encoded.items()}\n",
    "        with torch.no_grad():\n",
    "            output = bert_model(**encoded)\n",
    "        emb = output.last_hidden_state.squeeze(0) \n",
    "        embeddings.append(emb.cpu())\n",
    "    return torch.stack(embeddings) \n",
    "\n",
    "print(\"Encoding train set...\")\n",
    "X_train = get_token_level_embeddings(train_df['Clean_Lyrics'])\n",
    "y_train = torch.tensor(train_df['Genre_encoded'].values)\n",
    "\n",
    "print(\"Encoding validation set...\")\n",
    "X_val = get_token_level_embeddings(val_df['Clean_Lyrics'])\n",
    "y_val = torch.tensor(val_df['Genre_encoded'].values)\n",
    "\n",
    "print(\"Encoding test set...\")\n",
    "X_test = get_token_level_embeddings(test_df['Clean_Lyrics'])\n",
    "y_test = torch.tensor(test_df['Genre_encoded'].values)\n",
    "\n",
    "train_loader = DataLoader(TensorDataset(X_train, y_train), batch_size=16, shuffle=True)\n",
    "val_loader = DataLoader(TensorDataset(X_val, y_val), batch_size=16)\n",
    "test_loader = DataLoader(TensorDataset(X_test, y_test), batch_size=16)\n",
    "\n",
    "# Enhanced CNN Model\n",
    "class TextCNN(nn.Module):\n",
    "    def __init__(self, input_dim, num_classes):\n",
    "        super(TextCNN, self).__init__()\n",
    "        self.conv1 = nn.Conv1d(in_channels=input_dim, out_channels=256, kernel_size=3, padding=1)\n",
    "        self.conv2 = nn.Conv1d(in_channels=input_dim, out_channels=256, kernel_size=4, padding=2)\n",
    "        self.conv3 = nn.Conv1d(in_channels=input_dim, out_channels=256, kernel_size=5, padding=2)\n",
    "        self.pool = nn.AdaptiveMaxPool1d(1)\n",
    "        self.relu = nn.ReLU()\n",
    "        self.dropout = nn.Dropout(0.3)\n",
    "        self.fc = nn.Linear(256 * 3, num_classes)\n",
    "\n",
    "    def forward(self, x):\n",
    "        x = x.permute(0, 2, 1)\n",
    "        x1 = self.pool(self.relu(self.conv1(x))).squeeze(-1)\n",
    "        x2 = self.pool(self.relu(self.conv2(x))).squeeze(-1)\n",
    "        x3 = self.pool(self.relu(self.conv3(x))).squeeze(-1)\n",
    "        x = torch.cat((x1, x2, x3), dim=1)\n",
    "        x = self.dropout(x)\n",
    "        return self.fc(x)\n",
    "\n",
    "# LSTM Model with Attention\n",
    "class TextLSTM(nn.Module):\n",
    "    def __init__(self, input_dim, hidden_dim, num_classes):\n",
    "        super(TextLSTM, self).__init__()\n",
    "        self.hidden_dim = hidden_dim\n",
    "        self.lstm = nn.LSTM(input_dim, hidden_dim, num_layers=2, batch_first=True, bidirectional=True, dropout=0.3)\n",
    "        self.attention = nn.Linear(hidden_dim * 2, 1)\n",
    "        self.dropout = nn.Dropout(0.3)\n",
    "        self.fc = nn.Linear(hidden_dim * 2, num_classes)\n",
    "\n",
    "    def forward(self, x):\n",
    "        lstm_out, _ = self.lstm(x)\n",
    "        attention_weights = torch.softmax(self.attention(lstm_out), dim=1)\n",
    "        context_vector = torch.sum(lstm_out * attention_weights, dim=1)\n",
    "        out = self.dropout(context_vector)\n",
    "        return self.fc(out)\n",
    "\n",
    "# Training function with mixed precision and early stopping\n",
    "def train_model(model, train_loader, val_loader, epochs=10, patience=10):\n",
    "    model = model.to(device)\n",
    "    optimizer = optim.Adam(model.parameters(), lr=0.0005)\n",
    "    scheduler = optim.lr_scheduler.ReduceLROnPlateau(optimizer, mode='min', factor=0.5, patience=3)\n",
    "    criterion = nn.CrossEntropyLoss()\n",
    "    scaler = GradScaler()\n",
    "    best_val_acc = 0\n",
    "    trigger_times = 0\n",
    "\n",
    "    for epoch in range(epochs):\n",
    "        model.train()\n",
    "        total_train_loss = 0\n",
    "        with autocast():\n",
    "            for xb, yb in train_loader:\n",
    "                xb, yb = xb.to(device), yb.to(device)\n",
    "                optimizer.zero_grad()\n",
    "                pred = model(xb)\n",
    "                loss = criterion(pred, yb)\n",
    "                scaler.scale(loss).backward()\n",
    "                scaler.step(optimizer)\n",
    "                scaler.update()\n",
    "                total_train_loss += loss.item()\n",
    "\n",
    "        # Validation\n",
    "        model.eval()\n",
    "        total_val_loss = 0\n",
    "        val_preds = []\n",
    "        val_labels = []\n",
    "        with torch.no_grad():\n",
    "            for xb, yb in val_loader:\n",
    "                xb, yb = xb.to(device), yb.to(device)\n",
    "                pred = model(xb)\n",
    "                loss = criterion(pred, yb)\n",
    "                total_val_loss += loss.item()\n",
    "                val_preds.append(torch.argmax(pred, dim=1).cpu())\n",
    "                val_labels.append(yb.cpu())\n",
    "\n",
    "        val_preds = torch.cat(val_preds)\n",
    "        val_labels = torch.cat(val_labels)\n",
    "        avg_train_loss = total_train_loss / len(train_loader)\n",
    "        avg_val_loss = total_val_loss / len(val_loader)\n",
    "        val_acc = accuracy_score(val_labels, val_preds)\n",
    "        print(f\"Epoch {epoch+1}: Train Loss = {avg_train_loss:.4f}, Val Loss = {avg_val_loss:.4f}, Val Acc = {val_acc:.4f}\")\n",
    "\n",
    "        if val_acc > best_val_acc:\n",
    "            best_val_acc = val_acc\n",
    "            trigger_times = 0\n",
    "            torch.save(model.state_dict(), f\"best_{model.__class__.__name__}.pt\")\n",
    "        else:\n",
    "            trigger_times += 1\n",
    "            if trigger_times >= patience:\n",
    "                print(\"Early stopping triggered!\")\n",
    "                break\n",
    "\n",
    "        scheduler.step(avg_val_loss)\n",
    "\n",
    "    model.load_state_dict(torch.load(f\"best_{model.__class__.__name__}.pt\"))\n",
    "    return model\n",
    "\n",
    "# Evaluation function\n",
    "def evaluate(model, loader, y_true):\n",
    "    model.eval()\n",
    "    preds = []\n",
    "    with torch.no_grad():\n",
    "        for xb, _ in loader:\n",
    "            xb = xb.to(device)\n",
    "            pred = model(xb)\n",
    "            preds.append(torch.argmax(pred, dim=1).cpu())\n",
    "    y_pred = torch.cat(preds)\n",
    "    print(\"Accuracy:\", accuracy_score(y_true, y_pred))\n",
    "    print(\"Confusion Matrix:\\n\", confusion_matrix(y_true, y_pred))\n",
    "    print(classification_report(y_true, y_pred, target_names=le.classes_))\n",
    "\n",
    "# Run training and evaluation\n",
    "print(\"\\nTraining CNN with BERT...\")\n",
    "cnn = TextCNN(input_dim=X_train.shape[2], num_classes=len(le.classes_))\n",
    "cnn_model = train_model(cnn, train_loader, val_loader)\n",
    "print(\"\\nCNN Evaluation with BERT:\")\n",
    "evaluate(cnn_model, test_loader, y_test)\n",
    "\n",
    "print(\"\\nTraining LSTM with BERT...\")\n",
    "lstm = TextLSTM(input_dim=X_train.shape[2], hidden_dim=256, num_classes=len(le.classes_))\n",
    "lstm_model = train_model(lstm, train_loader, val_loader)\n",
    "print(\"\\nLSTM Evaluation with BERT:\")\n",
    "evaluate(lstm_model, test_loader, y_test)"
   ]
  },
  {
   "cell_type": "code",
   "execution_count": null,
   "id": "e55554a6-388a-4609-bddd-599fc3991ac3",
   "metadata": {},
   "outputs": [],
   "source": []
  }
 ],
 "metadata": {
  "kernelspec": {
   "display_name": "Python 3 (ipykernel)",
   "language": "python",
   "name": "python3"
  },
  "language_info": {
   "codemirror_mode": {
    "name": "ipython",
    "version": 3
   },
   "file_extension": ".py",
   "mimetype": "text/x-python",
   "name": "python",
   "nbconvert_exporter": "python",
   "pygments_lexer": "ipython3",
   "version": "3.9.21"
  }
 },
 "nbformat": 4,
 "nbformat_minor": 5
}
